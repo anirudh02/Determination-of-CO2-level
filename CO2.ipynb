{
 "cells": [
  {
   "cell_type": "code",
   "execution_count": 31,
   "metadata": {},
   "outputs": [],
   "source": [
    "#Importing the libraries.\n",
    "import numpy as np\n",
    "import pandas as pd\n",
    "import matplotlib.pyplot as plt\n",
    "import seaborn as sns"
   ]
  },
  {
   "cell_type": "code",
   "execution_count": 32,
   "metadata": {},
   "outputs": [],
   "source": [
    "#Loading the dataset.\n",
    "df = pd.read_csv('co2_yearly.csv')"
   ]
  },
  {
   "cell_type": "code",
   "execution_count": 33,
   "metadata": {},
   "outputs": [
    {
     "data": {
      "text/html": [
       "<div>\n",
       "<style scoped>\n",
       "    .dataframe tbody tr th:only-of-type {\n",
       "        vertical-align: middle;\n",
       "    }\n",
       "\n",
       "    .dataframe tbody tr th {\n",
       "        vertical-align: top;\n",
       "    }\n",
       "\n",
       "    .dataframe thead th {\n",
       "        text-align: right;\n",
       "    }\n",
       "</style>\n",
       "<table border=\"1\" class=\"dataframe\">\n",
       "  <thead>\n",
       "    <tr style=\"text-align: right;\">\n",
       "      <th></th>\n",
       "      <th>year</th>\n",
       "      <th>data_mean_global</th>\n",
       "      <th>data_mean_nh</th>\n",
       "      <th>data_mean_sh</th>\n",
       "    </tr>\n",
       "  </thead>\n",
       "  <tbody>\n",
       "    <tr>\n",
       "      <th>0</th>\n",
       "      <td>0</td>\n",
       "      <td>277.454</td>\n",
       "      <td>277.454</td>\n",
       "      <td>277.454</td>\n",
       "    </tr>\n",
       "    <tr>\n",
       "      <th>1</th>\n",
       "      <td>1</td>\n",
       "      <td>277.137</td>\n",
       "      <td>277.137</td>\n",
       "      <td>277.137</td>\n",
       "    </tr>\n",
       "    <tr>\n",
       "      <th>2</th>\n",
       "      <td>2</td>\n",
       "      <td>277.160</td>\n",
       "      <td>277.160</td>\n",
       "      <td>277.160</td>\n",
       "    </tr>\n",
       "    <tr>\n",
       "      <th>3</th>\n",
       "      <td>3</td>\n",
       "      <td>277.158</td>\n",
       "      <td>277.158</td>\n",
       "      <td>277.158</td>\n",
       "    </tr>\n",
       "    <tr>\n",
       "      <th>4</th>\n",
       "      <td>4</td>\n",
       "      <td>277.157</td>\n",
       "      <td>277.157</td>\n",
       "      <td>277.157</td>\n",
       "    </tr>\n",
       "  </tbody>\n",
       "</table>\n",
       "</div>"
      ],
      "text/plain": [
       "   year  data_mean_global  data_mean_nh  data_mean_sh\n",
       "0     0           277.454       277.454       277.454\n",
       "1     1           277.137       277.137       277.137\n",
       "2     2           277.160       277.160       277.160\n",
       "3     3           277.158       277.158       277.158\n",
       "4     4           277.157       277.157       277.157"
      ]
     },
     "execution_count": 33,
     "metadata": {},
     "output_type": "execute_result"
    }
   ],
   "source": [
    "df.head()"
   ]
  },
  {
   "cell_type": "code",
   "execution_count": 34,
   "metadata": {},
   "outputs": [],
   "source": [
    "#converting the data into an array\n",
    "df1=np.array(df)"
   ]
  },
  {
   "cell_type": "code",
   "execution_count": 35,
   "metadata": {},
   "outputs": [
    {
     "name": "stdout",
     "output_type": "stream",
     "text": [
      "[[0.00000000e+00 2.77454000e+02 2.77454000e+02 2.77454000e+02]\n",
      " [1.00000000e+00 2.77137000e+02 2.77137000e+02 2.77137000e+02]\n",
      " [2.00000000e+00 2.77160000e+02 2.77160000e+02 2.77160000e+02]\n",
      " ...\n",
      " [2.01200000e+03 3.93015993e+02 3.95036206e+02 3.90995779e+02]\n",
      " [2.01300000e+03 3.95724979e+02 3.97714917e+02 3.93735042e+02]\n",
      " [2.01400000e+03 3.97546977e+02 3.99590917e+02 3.95503037e+02]]\n"
     ]
    }
   ],
   "source": [
    "print(df1)"
   ]
  },
  {
   "cell_type": "code",
   "execution_count": 36,
   "metadata": {},
   "outputs": [],
   "source": [
    "X=df1[1850:2015,0]"
   ]
  },
  {
   "cell_type": "code",
   "execution_count": 37,
   "metadata": {},
   "outputs": [
    {
     "data": {
      "text/plain": [
       "array([[1850.],\n",
       "       [1851.],\n",
       "       [1852.],\n",
       "       [1853.],\n",
       "       [1854.],\n",
       "       [1855.],\n",
       "       [1856.],\n",
       "       [1857.],\n",
       "       [1858.],\n",
       "       [1859.],\n",
       "       [1860.],\n",
       "       [1861.],\n",
       "       [1862.],\n",
       "       [1863.],\n",
       "       [1864.],\n",
       "       [1865.],\n",
       "       [1866.],\n",
       "       [1867.],\n",
       "       [1868.],\n",
       "       [1869.],\n",
       "       [1870.],\n",
       "       [1871.],\n",
       "       [1872.],\n",
       "       [1873.],\n",
       "       [1874.],\n",
       "       [1875.],\n",
       "       [1876.],\n",
       "       [1877.],\n",
       "       [1878.],\n",
       "       [1879.],\n",
       "       [1880.],\n",
       "       [1881.],\n",
       "       [1882.],\n",
       "       [1883.],\n",
       "       [1884.],\n",
       "       [1885.],\n",
       "       [1886.],\n",
       "       [1887.],\n",
       "       [1888.],\n",
       "       [1889.],\n",
       "       [1890.],\n",
       "       [1891.],\n",
       "       [1892.],\n",
       "       [1893.],\n",
       "       [1894.],\n",
       "       [1895.],\n",
       "       [1896.],\n",
       "       [1897.],\n",
       "       [1898.],\n",
       "       [1899.],\n",
       "       [1900.],\n",
       "       [1901.],\n",
       "       [1902.],\n",
       "       [1903.],\n",
       "       [1904.],\n",
       "       [1905.],\n",
       "       [1906.],\n",
       "       [1907.],\n",
       "       [1908.],\n",
       "       [1909.],\n",
       "       [1910.],\n",
       "       [1911.],\n",
       "       [1912.],\n",
       "       [1913.],\n",
       "       [1914.],\n",
       "       [1915.],\n",
       "       [1916.],\n",
       "       [1917.],\n",
       "       [1918.],\n",
       "       [1919.],\n",
       "       [1920.],\n",
       "       [1921.],\n",
       "       [1922.],\n",
       "       [1923.],\n",
       "       [1924.],\n",
       "       [1925.],\n",
       "       [1926.],\n",
       "       [1927.],\n",
       "       [1928.],\n",
       "       [1929.],\n",
       "       [1930.],\n",
       "       [1931.],\n",
       "       [1932.],\n",
       "       [1933.],\n",
       "       [1934.],\n",
       "       [1935.],\n",
       "       [1936.],\n",
       "       [1937.],\n",
       "       [1938.],\n",
       "       [1939.],\n",
       "       [1940.],\n",
       "       [1941.],\n",
       "       [1942.],\n",
       "       [1943.],\n",
       "       [1944.],\n",
       "       [1945.],\n",
       "       [1946.],\n",
       "       [1947.],\n",
       "       [1948.],\n",
       "       [1949.],\n",
       "       [1950.],\n",
       "       [1951.],\n",
       "       [1952.],\n",
       "       [1953.],\n",
       "       [1954.],\n",
       "       [1955.],\n",
       "       [1956.],\n",
       "       [1957.],\n",
       "       [1958.],\n",
       "       [1959.],\n",
       "       [1960.],\n",
       "       [1961.],\n",
       "       [1962.],\n",
       "       [1963.],\n",
       "       [1964.],\n",
       "       [1965.],\n",
       "       [1966.],\n",
       "       [1967.],\n",
       "       [1968.],\n",
       "       [1969.],\n",
       "       [1970.],\n",
       "       [1971.],\n",
       "       [1972.],\n",
       "       [1973.],\n",
       "       [1974.],\n",
       "       [1975.],\n",
       "       [1976.],\n",
       "       [1977.],\n",
       "       [1978.],\n",
       "       [1979.],\n",
       "       [1980.],\n",
       "       [1981.],\n",
       "       [1982.],\n",
       "       [1983.],\n",
       "       [1984.],\n",
       "       [1985.],\n",
       "       [1986.],\n",
       "       [1987.],\n",
       "       [1988.],\n",
       "       [1989.],\n",
       "       [1990.],\n",
       "       [1991.],\n",
       "       [1992.],\n",
       "       [1993.],\n",
       "       [1994.],\n",
       "       [1995.],\n",
       "       [1996.],\n",
       "       [1997.],\n",
       "       [1998.],\n",
       "       [1999.],\n",
       "       [2000.],\n",
       "       [2001.],\n",
       "       [2002.],\n",
       "       [2003.],\n",
       "       [2004.],\n",
       "       [2005.],\n",
       "       [2006.],\n",
       "       [2007.],\n",
       "       [2008.],\n",
       "       [2009.],\n",
       "       [2010.],\n",
       "       [2011.],\n",
       "       [2012.],\n",
       "       [2013.],\n",
       "       [2014.]])"
      ]
     },
     "execution_count": 37,
     "metadata": {},
     "output_type": "execute_result"
    }
   ],
   "source": [
    "X.reshape(165,1)"
   ]
  },
  {
   "cell_type": "code",
   "execution_count": 38,
   "metadata": {},
   "outputs": [
    {
     "data": {
      "text/plain": [
       "(165,)"
      ]
     },
     "execution_count": 38,
     "metadata": {},
     "output_type": "execute_result"
    }
   ],
   "source": [
    "X.shape"
   ]
  },
  {
   "cell_type": "code",
   "execution_count": 39,
   "metadata": {},
   "outputs": [],
   "source": [
    "y=df1[1850:2015,1]"
   ]
  },
  {
   "cell_type": "code",
   "execution_count": 40,
   "metadata": {},
   "outputs": [
    {
     "data": {
      "text/plain": [
       "(165,)"
      ]
     },
     "execution_count": 40,
     "metadata": {},
     "output_type": "execute_result"
    }
   ],
   "source": [
    "y.shape"
   ]
  },
  {
   "cell_type": "code",
   "execution_count": 41,
   "metadata": {},
   "outputs": [
    {
     "data": {
      "text/plain": [
       "[<matplotlib.lines.Line2D at 0x235cb27e828>]"
      ]
     },
     "execution_count": 41,
     "metadata": {},
     "output_type": "execute_result"
    },
    {
     "data": {
      "image/png": "[encoded data removed]",
      "text/plain": [
       "<Figure size 432x288 with 1 Axes>"
      ]
     },
     "metadata": {},
     "output_type": "display_data"
    }
   ],
   "source": [
    "#analysing the data for linearity\n",
    "plt.plot(X,y)"
   ]
  },
  {
   "cell_type": "code",
   "execution_count": 57,
   "metadata": {},
   "outputs": [],
   "source": [
    "X_1=df1[1850:1950,0]"
   ]
  },
  {
   "cell_type": "code",
   "execution_count": 58,
   "metadata": {},
   "outputs": [
    {
     "data": {
      "text/plain": [
       "(100,)"
      ]
     },
     "execution_count": 58,
     "metadata": {},
     "output_type": "execute_result"
    }
   ],
   "source": [
    "X_1.shape"
   ]
  },
  {
   "cell_type": "code",
   "execution_count": 59,
   "metadata": {},
   "outputs": [],
   "source": [
    "y_1=df1[1850:1950,1]"
   ]
  },
  {
   "cell_type": "code",
   "execution_count": 60,
   "metadata": {},
   "outputs": [
    {
     "name": "stdout",
     "output_type": "stream",
     "text": [
      "[284.31699985 284.45099985 284.59799984 284.73099983 284.84599981\n",
      " 284.9409998  285.04899978 285.20399977 285.36899977 285.54499975\n",
      " 285.73899973 285.93299971 286.0999997  286.27099968 286.44199966\n",
      " 286.61399964 286.78099963 286.95499961 287.10499959 287.22499957\n",
      " 287.35499955 287.49399953 287.66399949 287.85999947 288.06099947\n",
      " 288.29099945 288.51999944 288.75199942 288.99299941 289.22099938\n",
      " 289.46999932 289.73699929 290.01899926 290.26299922 290.5119992\n",
      " 290.79699919 291.09999918 291.41399914 291.76299908 292.11299905\n",
      " 292.45799899 292.81599895 293.16699894 293.47699894 293.79099891\n",
      " 294.07899885 294.36499881 294.64599877 294.9539987  295.29999858\n",
      " 295.67499844 296.00699797 296.32499743 296.65399684 296.9539963\n",
      " 297.28899573 297.66199514 298.09799448 298.51799401 298.93599346\n",
      " 299.37699288 299.82899234 300.35299175 300.90999114 301.41899078\n",
      " 301.93699031 302.48498969 303.0109891  303.44898865 303.81398833\n",
      " 304.24598768 304.59998734 304.94498677 305.27098605 305.62998552\n",
      " 305.81298501 305.95398452 306.17698387 306.32898332 306.49498272\n",
      " 306.61998238 306.82198214 307.09298182 307.40198125 307.78498059\n",
      " 308.22697996 309.01197925 309.76397862 310.2939782  310.85097758\n",
      " 311.35697687 311.81097628 312.17197574 312.38997518 312.41297475\n",
      " 312.38497461 312.38997396 312.48597318 312.52097253 312.63197206]\n"
     ]
    }
   ],
   "source": [
    "print(y_1)"
   ]
  },
  {
   "cell_type": "code",
   "execution_count": 61,
   "metadata": {},
   "outputs": [
    {
     "data": {
      "text/plain": [
       "(100,)"
      ]
     },
     "execution_count": 61,
     "metadata": {},
     "output_type": "execute_result"
    }
   ],
   "source": [
    "y_1.shape"
   ]
  },
  {
   "cell_type": "code",
   "execution_count": 62,
   "metadata": {},
   "outputs": [
    {
     "data": {
      "text/plain": [
       "[<matplotlib.lines.Line2D at 0x235cb392668>]"
      ]
     },
     "execution_count": 62,
     "metadata": {},
     "output_type": "execute_result"
    },
    {
     "data": {
      "image/png": "[encoded data removed]",
      "text/plain": [
       "<Figure size 432x288 with 1 Axes>"
      ]
     },
     "metadata": {},
     "output_type": "display_data"
    }
   ],
   "source": [
    "plt.plot(X_1,y_1)"
   ]
  },
  {
   "cell_type": "code",
   "execution_count": 81,
   "metadata": {},
   "outputs": [],
   "source": [
    "X2=df1[1950:2015,0]"
   ]
  },
  {
   "cell_type": "code",
   "execution_count": 82,
   "metadata": {},
   "outputs": [],
   "source": [
    "y2=df1[1950:2015,1]"
   ]
  },
  {
   "cell_type": "code",
   "execution_count": 83,
   "metadata": {},
   "outputs": [
    {
     "name": "stdout",
     "output_type": "stream",
     "text": [
      "[1950. 1951. 1952. 1953. 1954. 1955. 1956. 1957. 1958. 1959. 1960. 1961.\n",
      " 1962. 1963. 1964. 1965. 1966. 1967. 1968. 1969. 1970. 1971. 1972. 1973.\n",
      " 1974. 1975. 1976. 1977. 1978. 1979. 1980. 1981. 1982. 1983. 1984. 1985.\n",
      " 1986. 1987. 1988. 1989. 1990. 1991. 1992. 1993. 1994. 1995. 1996. 1997.\n",
      " 1998. 1999. 2000. 2001. 2002. 2003. 2004. 2005. 2006. 2007. 2008. 2009.\n",
      " 2010. 2011. 2012. 2013. 2014.]\n"
     ]
    }
   ],
   "source": [
    "print(X2)"
   ]
  },
  {
   "cell_type": "code",
   "execution_count": 84,
   "metadata": {},
   "outputs": [
    {
     "name": "stdout",
     "output_type": "stream",
     "text": [
      "[312.82097134 313.01397061 313.34197002 313.72996943 314.09496881\n",
      " 314.41496797 314.69796719 314.99196652 315.34496587 315.80696512\n",
      " 316.62496439 317.29896381 318.04396308 318.64996224 319.33296137\n",
      " 319.81596054 320.87995969 321.47995891 322.388958   323.25095699\n",
      " 324.78295589 325.39995499 327.34895407 329.90895309 330.75595252\n",
      " 330.826952   331.54495098 333.35295009 335.00994936 336.60494835\n",
      " 338.70494793 340.05894776 340.6439474  342.26594726 344.00794955\n",
      " 345.45895377 346.90294811 348.77494737 351.27593295 352.8939214\n",
      " 354.07293006 355.35293485 356.22894892 356.92495886 358.2539622\n",
      " 360.23895645 362.00496146 363.25196181 365.93295802 367.84497478\n",
      " 369.12498003 370.6729901  372.83499428 375.41099503 376.9870025\n",
      " 378.90700498 381.01000696 382.60302468 384.73901863 386.28001904\n",
      " 388.71702928 390.94401469 393.01599272 395.72497934 397.54697693]\n"
     ]
    }
   ],
   "source": [
    "print(y2)"
   ]
  },
  {
   "cell_type": "code",
   "execution_count": 85,
   "metadata": {},
   "outputs": [
    {
     "data": {
      "text/plain": [
       "[<matplotlib.lines.Line2D at 0x235cb5e6080>]"
      ]
     },
     "execution_count": 85,
     "metadata": {},
     "output_type": "execute_result"
    },
    {
     "data": {
      "image/png": "[encoded data removed]",
      "text/plain": [
       "<Figure size 432x288 with 1 Axes>"
      ]
     },
     "metadata": {},
     "output_type": "display_data"
    }
   ],
   "source": [
    "plt.plot(X2,y2)\n"
   ]
  },
  {
   "cell_type": "code",
   "execution_count": 90,
   "metadata": {},
   "outputs": [],
   "source": [
    "from sklearn.linear_model import LinearRegression"
   ]
  },
  {
   "cell_type": "code",
   "execution_count": 91,
   "metadata": {},
   "outputs": [],
   "source": [
    "#creating the object.\n",
    "model = LinearRegression()"
   ]
  },
  {
   "cell_type": "code",
   "execution_count": 92,
   "metadata": {},
   "outputs": [
    {
     "data": {
      "text/plain": [
       "LinearRegression(copy_X=True, fit_intercept=True, n_jobs=1, normalize=False)"
      ]
     },
     "execution_count": 92,
     "metadata": {},
     "output_type": "execute_result"
    }
   ],
   "source": [
    "#Fitting the model into ANN\n",
    "model.fit(X2.reshape(-1,1),y2.reshape(-1,1))"
   ]
  },
  {
   "cell_type": "code",
   "execution_count": 93,
   "metadata": {},
   "outputs": [
    {
     "data": {
      "text/plain": [
       "array([[437.65211548]])"
      ]
     },
     "execution_count": 93,
     "metadata": {},
     "output_type": "execute_result"
    }
   ],
   "source": [
    "#prediction\n",
    "model.predict(2050)"
   ]
  },
  {
   "cell_type": "code",
   "execution_count": null,
   "metadata": {},
   "outputs": [],
   "source": []
  }
 ],
 "metadata": {
  "kernelspec": {
   "display_name": "Python 3",
   "language": "python",
   "name": "python3"
  },
  "language_info": {
   "codemirror_mode": {
    "name": "ipython",
    "version": 3
   },
   "file_extension": ".py",
   "mimetype": "text/x-python",
   "name": "python",
   "nbconvert_exporter": "python",
   "pygments_lexer": "ipython3",
   "version": "3.6.5"
  }
 },
 "nbformat": 4,
 "nbformat_minor": 2
}
